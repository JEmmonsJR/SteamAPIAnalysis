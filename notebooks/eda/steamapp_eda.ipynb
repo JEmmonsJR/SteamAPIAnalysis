{
 "cells": [
  {
   "cell_type": "code",
   "execution_count": null,
   "metadata": {},
   "outputs": [],
   "source": [
    "#standard imports\n",
    "import numpy as np\n",
    "import pandas as pd\n",
    "import json\n",
    "\n",
    "# customisations - ensure tables show all columns\n",
    "pd.set_option(\"display.max_columns\", 100)\n",
    "\n",
    "#imports for graphing\n",
    "import seaborn as sns\n",
    "import matplotlib.pyplot as plt"
   ]
  },
  {
   "cell_type": "code",
   "execution_count": null,
   "metadata": {},
   "outputs": [],
   "source": [
    "steam_app_data = pd.read_csv('../../data/download/steam_app_data.csv')"
   ]
  },
  {
   "cell_type": "code",
   "execution_count": null,
   "metadata": {},
   "outputs": [],
   "source": [
    "steam_app_data.info()"
   ]
  },
  {
   "cell_type": "code",
   "execution_count": null,
   "metadata": {},
   "outputs": [],
   "source": [
    "steam_app_data.head(5)"
   ]
  },
  {
   "cell_type": "code",
   "execution_count": null,
   "metadata": {},
   "outputs": [],
   "source": [
    "steam_app_data.drop_duplicates(inplace=True)"
   ]
  },
  {
   "cell_type": "markdown",
   "metadata": {},
   "source": [
    "Dropping columns not needed for analysis"
   ]
  },
  {
   "cell_type": "code",
   "execution_count": null,
   "metadata": {},
   "outputs": [],
   "source": [
    "steam_app_data.drop(columns=['controller_support', 'dlc', 'short_description', 'fullgame', 'supported_languages', 'website',\n",
    "                            'pc_requirements', 'mac_requirements', 'linux_requirements', 'legal_notice', 'drm_notice', \n",
    "                            'ext_user_account_notice', 'demos', 'package_groups', 'platforms', 'metacritic', 'reviews',\n",
    "                            'screenshots', 'movies', 'achievements', 'support_info', 'background', 'content_descriptors',\n",
    "                            'price_overview', 'packages', 'categories', 'recommendations'], inplace=True)"
   ]
  },
  {
   "cell_type": "code",
   "execution_count": null,
   "metadata": {},
   "outputs": [],
   "source": [
    "steam_app_data = steam_app_data[steam_app_data['genres'].notna()]"
   ]
  },
  {
   "cell_type": "code",
   "execution_count": null,
   "metadata": {},
   "outputs": [],
   "source": [
    "steam_app_data.info()"
   ]
  },
  {
   "cell_type": "code",
   "execution_count": null,
   "metadata": {},
   "outputs": [],
   "source": [
    "steam_app_data.tail(3)"
   ]
  },
  {
   "cell_type": "markdown",
   "metadata": {},
   "source": [
    "Trying to fix JSON columns"
   ]
  },
  {
   "cell_type": "code",
   "execution_count": null,
   "metadata": {},
   "outputs": [],
   "source": [
    "#The Steam API didn't have thier JSON format right, this will fix the formats\n",
    "steam_app_data['genres'] = steam_app_data['genres'].str.replace(\"'\", '\"')"
   ]
  },
  {
   "cell_type": "code",
   "execution_count": null,
   "metadata": {},
   "outputs": [],
   "source": [
    "#This changes all the strings in genres and creates jsons\n",
    "x = steam_app_data['genres'].apply(json.loads)"
   ]
  },
  {
   "cell_type": "code",
   "execution_count": null,
   "metadata": {},
   "outputs": [],
   "source": [
    "#This cracks open the Json and makes them usable\n",
    "y = pd.json_normalize(x)"
   ]
  },
  {
   "cell_type": "code",
   "execution_count": null,
   "metadata": {},
   "outputs": [],
   "source": [
    "y[1][98041]['description']"
   ]
  },
  {
   "cell_type": "code",
   "execution_count": null,
   "metadata": {},
   "outputs": [],
   "source": [
    "y.info()"
   ]
  },
  {
   "cell_type": "markdown",
   "metadata": {},
   "source": [
    "Taking the first three genres for each game and outting them back into the original df"
   ]
  },
  {
   "cell_type": "code",
   "execution_count": null,
   "metadata": {},
   "outputs": [],
   "source": [
    "genre_1 = []\n",
    "for itr in range(len(y[0])):\n",
    "        genre_1.append( y[0][itr]['description'])\n",
    "\n",
    "steam_app_data['genre_1'] = genre_1"
   ]
  },
  {
   "cell_type": "code",
   "execution_count": null,
   "metadata": {},
   "outputs": [],
   "source": [
    "genre_2 = []\n",
    "for itr in range(len(y[1])):\n",
    "    if pd.isna(y[1][itr]):\n",
    "        genre_2.append('No Second Genre')\n",
    "    else:\n",
    "        genre_2.append(y[1][itr]['description'])\n",
    "        \n",
    "steam_app_data['genre_2'] = genre_2"
   ]
  },
  {
   "cell_type": "code",
   "execution_count": null,
   "metadata": {},
   "outputs": [],
   "source": [
    "genre_3 = []\n",
    "for itr in range(len(y[2])):\n",
    "    if pd.isna(y[2][itr]):\n",
    "        genre_3.append('No Third Genre')\n",
    "    else:\n",
    "        genre_3.append(y[2][itr]['description'])\n",
    "        \n",
    "steam_app_data['genre_3'] = genre_3"
   ]
  },
  {
   "cell_type": "code",
   "execution_count": null,
   "metadata": {},
   "outputs": [],
   "source": [
    "steam_app_data.drop(columns=['genres'], inplace=True)"
   ]
  },
  {
   "cell_type": "markdown",
   "metadata": {},
   "source": [
    "Now to pull out the release date"
   ]
  },
  {
   "cell_type": "code",
   "execution_count": null,
   "metadata": {},
   "outputs": [],
   "source": [
    "#The Steam API didn't have thier JSON format right, this will fix the formats\n",
    "steam_app_data['release_date'] = steam_app_data['release_date'].str.replace(\"'\", '\"')\n",
    "steam_app_data['release_date'] = steam_app_data['release_date'].str.replace(\"False\", '\"False\"')\n",
    "steam_app_data['release_date'] = steam_app_data['release_date'].str.replace(\"True\", '\"True\"')\n"
   ]
  },
  {
   "cell_type": "code",
   "execution_count": null,
   "metadata": {},
   "outputs": [],
   "source": [
    "steam_app_data['release_date']"
   ]
  },
  {
   "cell_type": "code",
   "execution_count": null,
   "metadata": {},
   "outputs": [],
   "source": [
    "#This changes all the strings in genres and creates jsons\n",
    "date_jasons = steam_app_data['release_date'].apply(json.loads)"
   ]
  },
  {
   "cell_type": "code",
   "execution_count": null,
   "metadata": {},
   "outputs": [],
   "source": [
    "#This cracks open the Json and makes them usable\n",
    "date_norm = pd.json_normalize(date_jasons)"
   ]
  },
  {
   "cell_type": "code",
   "execution_count": null,
   "metadata": {},
   "outputs": [],
   "source": [
    "steam_app_data['date_released'] = date_norm['date']"
   ]
  },
  {
   "cell_type": "code",
   "execution_count": null,
   "metadata": {},
   "outputs": [],
   "source": [
    "dates = []\n",
    "for itr in range(len(date_norm)):\n",
    "    if date_norm['date'][itr] == 'Coming Soon':\n",
    "        dates.append('Coming Soon')\n",
    "    else:\n",
    "        dates.append(date_norm['date'][itr])\n",
    "    \n",
    "steam_app_data['release_date'] = dates"
   ]
  },
  {
   "cell_type": "code",
   "execution_count": null,
   "metadata": {},
   "outputs": [],
   "source": [
    "steam_app_data.drop(columns=['required_age', 'date_released', 'about_the_game', 'is_free'], inplace=True)"
   ]
  },
  {
   "cell_type": "code",
   "execution_count": null,
   "metadata": {},
   "outputs": [],
   "source": [
    "steam_app_data = steam_app_data[steam_app_data.type == 'game']"
   ]
  },
  {
   "cell_type": "code",
   "execution_count": null,
   "metadata": {},
   "outputs": [],
   "source": [
    "steam_app_data.info()"
   ]
  },
  {
   "cell_type": "code",
   "execution_count": null,
   "metadata": {},
   "outputs": [],
   "source": [
    "#Dropping some columns that are in another table\n",
    "steam_app_data.drop(columns=['developers', 'publishers'], inplace=True)"
   ]
  },
  {
   "cell_type": "code",
   "execution_count": null,
   "metadata": {},
   "outputs": [],
   "source": [
    "steam_app_data.to_csv(\"../../data/download/steam_app_data.csv\", index=False)"
   ]
  },
  {
   "cell_type": "code",
   "execution_count": null,
   "metadata": {},
   "outputs": [],
   "source": []
  }
 ],
 "metadata": {
  "kernelspec": {
   "display_name": "base",
   "language": "python",
   "name": "python3"
  },
  "language_info": {
   "codemirror_mode": {
    "name": "ipython",
    "version": 3
   },
   "file_extension": ".py",
   "mimetype": "text/x-python",
   "name": "python",
   "nbconvert_exporter": "python",
   "pygments_lexer": "ipython3",
   "version": "3.11.5"
  }
 },
 "nbformat": 4,
 "nbformat_minor": 2
}
