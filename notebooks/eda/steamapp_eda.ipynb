{
 "cells": [
  {
   "cell_type": "code",
   "execution_count": 1,
   "metadata": {},
   "outputs": [],
   "source": [
    "#standard imports\n",
    "import numpy as np\n",
    "import pandas as pd\n",
    "\n",
    "# customisations - ensure tables show all columns\n",
    "pd.set_option(\"display.max_columns\", 100)\n",
    "\n",
    "#imports for graphing\n",
    "import seaborn as sns\n",
    "import matplotlib.pyplot as plt"
   ]
  },
  {
   "cell_type": "code",
   "execution_count": 3,
   "metadata": {},
   "outputs": [
    {
     "name": "stderr",
     "output_type": "stream",
     "text": [
      "C:\\Users\\jdejr\\AppData\\Local\\Temp\\ipykernel_12704\\2781159287.py:1: DtypeWarning: Columns (3) have mixed types. Specify dtype option on import or set low_memory=False.\n",
      "  steam_app_data = pd.read_csv('../../data/download/steam_app_data.csv')\n"
     ]
    }
   ],
   "source": [
    "steam_app_data = pd.read_csv('../../data/download/steam_app_data.csv')"
   ]
  },
  {
   "cell_type": "code",
   "execution_count": 4,
   "metadata": {},
   "outputs": [
    {
     "name": "stdout",
     "output_type": "stream",
     "text": [
      "<class 'pandas.core.frame.DataFrame'>\n",
      "RangeIndex: 98170 entries, 0 to 98169\n",
      "Data columns (total 39 columns):\n",
      " #   Column                   Non-Null Count  Dtype  \n",
      "---  ------                   --------------  -----  \n",
      " 0   type                     98170 non-null  object \n",
      " 1   name                     98170 non-null  object \n",
      " 2   steam_appid              98170 non-null  int64  \n",
      " 3   required_age             98170 non-null  object \n",
      " 4   is_free                  98170 non-null  bool   \n",
      " 5   controller_support       22907 non-null  object \n",
      " 6   dlc                      12839 non-null  object \n",
      " 7   detailed_description     98091 non-null  object \n",
      " 8   about_the_game           98089 non-null  object \n",
      " 9   short_description        98095 non-null  object \n",
      " 10  fullgame                 0 non-null      float64\n",
      " 11  supported_languages      98114 non-null  object \n",
      " 12  header_image             98170 non-null  object \n",
      " 13  website                  45671 non-null  object \n",
      " 14  pc_requirements          98170 non-null  object \n",
      " 15  mac_requirements         98170 non-null  object \n",
      " 16  linux_requirements       98170 non-null  object \n",
      " 17  legal_notice             25667 non-null  object \n",
      " 18  drm_notice               322 non-null    object \n",
      " 19  ext_user_account_notice  1392 non-null   object \n",
      " 20  developers               97988 non-null  object \n",
      " 21  publishers               98170 non-null  object \n",
      " 22  demos                    11891 non-null  object \n",
      " 23  price_overview           66807 non-null  object \n",
      " 24  packages                 67454 non-null  object \n",
      " 25  package_groups           98170 non-null  object \n",
      " 26  platforms                98170 non-null  object \n",
      " 27  metacritic               3822 non-null   object \n",
      " 28  reviews                  10310 non-null  object \n",
      " 29  categories               98050 non-null  object \n",
      " 30  genres                   98046 non-null  object \n",
      " 31  screenshots              98023 non-null  object \n",
      " 32  movies                   90365 non-null  object \n",
      " 33  recommendations          15180 non-null  object \n",
      " 34  achievements             42535 non-null  object \n",
      " 35  release_date             98170 non-null  object \n",
      " 36  support_info             98170 non-null  object \n",
      " 37  background               98048 non-null  object \n",
      " 38  content_descriptors      98170 non-null  object \n",
      "dtypes: bool(1), float64(1), int64(1), object(36)\n",
      "memory usage: 28.6+ MB\n"
     ]
    }
   ],
   "source": [
    "steam_app_data.info()"
   ]
  },
  {
   "cell_type": "code",
   "execution_count": null,
   "metadata": {},
   "outputs": [],
   "source": []
  }
 ],
 "metadata": {
  "kernelspec": {
   "display_name": "base",
   "language": "python",
   "name": "python3"
  },
  "language_info": {
   "codemirror_mode": {
    "name": "ipython",
    "version": 3
   },
   "file_extension": ".py",
   "mimetype": "text/x-python",
   "name": "python",
   "nbconvert_exporter": "python",
   "pygments_lexer": "ipython3",
   "version": "3.11.5"
  }
 },
 "nbformat": 4,
 "nbformat_minor": 2
}
