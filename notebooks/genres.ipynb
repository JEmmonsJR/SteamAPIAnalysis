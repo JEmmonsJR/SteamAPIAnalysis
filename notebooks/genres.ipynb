{
 "cells": [
  {
   "cell_type": "markdown",
   "metadata": {},
   "source": [
    "This notebook will combine the three genre copumns and provide some analysis on them"
   ]
  },
  {
   "cell_type": "code",
   "execution_count": null,
   "metadata": {},
   "outputs": [],
   "source": [
    "#standard imports\n",
    "import numpy as np\n",
    "import pandas as pd\n",
    "import json\n",
    "\n",
    "# customisations - ensure tables show all columns\n",
    "pd.set_option(\"display.max_columns\", 100)\n",
    "\n",
    "#imports for graphing\n",
    "import seaborn as sns\n",
    "import matplotlib.pyplot as plt"
   ]
  },
  {
   "cell_type": "code",
   "execution_count": null,
   "metadata": {},
   "outputs": [],
   "source": [
    "data = pd.read_csv(\"../data/meta.csv\")"
   ]
  },
  {
   "cell_type": "code",
   "execution_count": null,
   "metadata": {},
   "outputs": [],
   "source": [
    "data.info()"
   ]
  },
  {
   "cell_type": "code",
   "execution_count": null,
   "metadata": {},
   "outputs": [],
   "source": [
    "data['ccu']"
   ]
  },
  {
   "cell_type": "markdown",
   "metadata": {},
   "source": [
    "Counts"
   ]
  },
  {
   "cell_type": "code",
   "execution_count": null,
   "metadata": {},
   "outputs": [],
   "source": [
    "g1_count = data['genre_1'].value_counts(dropna=True, sort=True)\n",
    "df_g1 = pd.DataFrame(g1_count)\n",
    "df_g1_reset = df_g1.reset_index()\n",
    "df_g1_reset.columns = ['genres', 'counts']\n"
   ]
  },
  {
   "cell_type": "code",
   "execution_count": null,
   "metadata": {},
   "outputs": [],
   "source": [
    "df_g1_reset"
   ]
  },
  {
   "cell_type": "code",
   "execution_count": null,
   "metadata": {},
   "outputs": [],
   "source": [
    "g2_count = data['genre_2'].value_counts(dropna=True, sort=True)\n",
    "df_g2 = pd.DataFrame(g2_count)\n",
    "df_g2_reset = df_g2.reset_index()\n",
    "df_g2_reset.columns = ['genres', 'counts']\n"
   ]
  },
  {
   "cell_type": "code",
   "execution_count": null,
   "metadata": {},
   "outputs": [],
   "source": [
    "df_g2_reset"
   ]
  },
  {
   "cell_type": "code",
   "execution_count": null,
   "metadata": {},
   "outputs": [],
   "source": [
    "g3_count = data['genre_3'].value_counts(dropna=True, sort=True)\n",
    "df_g3 = pd.DataFrame(g3_count)\n",
    "df_g3_reset = df_g3.reset_index()\n",
    "df_g3_reset.columns = ['genres', 'counts']\n"
   ]
  },
  {
   "cell_type": "code",
   "execution_count": null,
   "metadata": {},
   "outputs": [],
   "source": [
    "df_g3_reset"
   ]
  },
  {
   "cell_type": "code",
   "execution_count": null,
   "metadata": {},
   "outputs": [],
   "source": [
    "g1g2_df = pd.merge(df_g1_reset, df_g2_reset, how='outer', left_on='genres', right_on='genres')\n",
    "g1g2_df"
   ]
  },
  {
   "cell_type": "code",
   "execution_count": null,
   "metadata": {},
   "outputs": [],
   "source": [
    "g1g2g3_df = pd.merge(g1g2_df, df_g3_reset, how='outer', left_on='genres', right_on='genres')\n",
    "g1g2g3_df"
   ]
  },
  {
   "cell_type": "code",
   "execution_count": null,
   "metadata": {},
   "outputs": [],
   "source": [
    "g1g2g3_df = g1g2g3_df.fillna(0)"
   ]
  },
  {
   "cell_type": "code",
   "execution_count": null,
   "metadata": {},
   "outputs": [],
   "source": [
    "g1g2g3_df.info()"
   ]
  },
  {
   "cell_type": "code",
   "execution_count": null,
   "metadata": {},
   "outputs": [],
   "source": [
    "g1g2g3_df['total'] = g1g2g3_df[['counts_x', 'counts_y', 'counts']].sum(axis=1)"
   ]
  },
  {
   "cell_type": "code",
   "execution_count": null,
   "metadata": {},
   "outputs": [],
   "source": [
    "g1g2g3_df"
   ]
  },
  {
   "cell_type": "code",
   "execution_count": null,
   "metadata": {},
   "outputs": [],
   "source": [
    "genres_df = g1g2g3_df[['genres', 'total']]\n",
    "genres_df"
   ]
  },
  {
   "cell_type": "code",
   "execution_count": null,
   "metadata": {},
   "outputs": [],
   "source": [
    "genres_df = genres_df.drop([19,25])"
   ]
  },
  {
   "cell_type": "code",
   "execution_count": null,
   "metadata": {},
   "outputs": [],
   "source": [
    "genres_df"
   ]
  },
  {
   "cell_type": "markdown",
   "metadata": {},
   "source": [
    "Averages"
   ]
  },
  {
   "cell_type": "code",
   "execution_count": null,
   "metadata": {},
   "outputs": [],
   "source": [
    "g1_pos = data.groupby('genre_1')['pos_percent'].mean()\n",
    "g1_pos_df = pd.DataFrame(g1_pos)\n",
    "g1_pos_reset = g1_pos_df.reset_index()\n",
    "g1_pos_reset.columns = ['genres', 'averages']\n",
    "g1_pos_reset\n"
   ]
  },
  {
   "cell_type": "code",
   "execution_count": null,
   "metadata": {},
   "outputs": [],
   "source": [
    "g2_pos = data.groupby('genre_2')['pos_percent'].mean()\n",
    "g2_pos_df = pd.DataFrame(g2_pos)\n",
    "g2_pos_reset = g2_pos_df.reset_index()\n",
    "g2_pos_reset.columns = ['genres', 'averages']\n",
    "g2_pos_reset\n"
   ]
  },
  {
   "cell_type": "code",
   "execution_count": null,
   "metadata": {},
   "outputs": [],
   "source": [
    "g3_pos = data.groupby('genre_3')['pos_percent'].mean()\n",
    "g3_pos_df = pd.DataFrame(g3_pos)\n",
    "g3_pos_reset = g3_pos_df.reset_index()\n",
    "g3_pos_reset.columns = ['genres', 'averages']\n",
    "g3_pos_reset"
   ]
  },
  {
   "cell_type": "code",
   "execution_count": null,
   "metadata": {},
   "outputs": [],
   "source": [
    "g1g2pos_df = pd.merge(g1_pos_reset, g2_pos_reset, how='outer', left_on='genres', right_on='genres')\n"
   ]
  },
  {
   "cell_type": "code",
   "execution_count": null,
   "metadata": {},
   "outputs": [],
   "source": [
    "g1g2g3pos_df = pd.merge(g1g2pos_df, g3_pos_reset, how='outer', left_on='genres', right_on='genres')"
   ]
  },
  {
   "cell_type": "code",
   "execution_count": null,
   "metadata": {},
   "outputs": [],
   "source": [
    "g1g2g3pos_df"
   ]
  },
  {
   "cell_type": "code",
   "execution_count": null,
   "metadata": {},
   "outputs": [],
   "source": [
    "averages = g1g2g3pos_df.drop(columns=['genres'])"
   ]
  },
  {
   "cell_type": "code",
   "execution_count": null,
   "metadata": {},
   "outputs": [],
   "source": [
    "averages = averages.T.fillna(averages.mean(axis=1)).T"
   ]
  },
  {
   "cell_type": "code",
   "execution_count": null,
   "metadata": {},
   "outputs": [],
   "source": [
    "g1g2g3pos_df[['averages_x', 'averages_y', 'averages']] = averages[['averages_x', 'averages_y', 'averages']]"
   ]
  },
  {
   "cell_type": "code",
   "execution_count": null,
   "metadata": {},
   "outputs": [],
   "source": [
    "g1g2g3pos_df"
   ]
  },
  {
   "cell_type": "code",
   "execution_count": null,
   "metadata": {},
   "outputs": [],
   "source": [
    "g1g2g3pos_df['average'] = g1g2g3pos_df[['averages_x', 'averages_y', 'averages']].mean(axis=1)"
   ]
  },
  {
   "cell_type": "code",
   "execution_count": null,
   "metadata": {},
   "outputs": [],
   "source": [
    "g1g2g3pos_df = g1g2g3pos_df[['genres', 'average']]"
   ]
  },
  {
   "cell_type": "code",
   "execution_count": null,
   "metadata": {},
   "outputs": [],
   "source": [
    "genres_df = pd.merge(genres_df, g1g2g3pos_df, how='left', left_on='genres', right_on='genres')\n"
   ]
  },
  {
   "cell_type": "code",
   "execution_count": null,
   "metadata": {},
   "outputs": [],
   "source": [
    "genres_df"
   ]
  },
  {
   "cell_type": "markdown",
   "metadata": {},
   "source": [
    "review_score "
   ]
  },
  {
   "cell_type": "code",
   "execution_count": null,
   "metadata": {},
   "outputs": [],
   "source": []
  },
  {
   "cell_type": "code",
   "execution_count": null,
   "metadata": {},
   "outputs": [],
   "source": [
    "g1_rev = data.groupby('genre_1')['review_score'].mean()\n",
    "g1_rev_df = pd.DataFrame(g1_rev)\n",
    "g1_rev_reset = g1_rev_df.reset_index()\n",
    "g1_rev_reset.columns = ['genres', 'averages']\n",
    "\n"
   ]
  },
  {
   "cell_type": "code",
   "execution_count": null,
   "metadata": {},
   "outputs": [],
   "source": [
    "g2_rev = data.groupby('genre_2')['review_score'].mean()\n",
    "g2_rev_df = pd.DataFrame(g2_rev)\n",
    "g2_rev_reset = g2_rev_df.reset_index()\n",
    "g2_rev_reset.columns = ['genres', 'averages']\n",
    "\n"
   ]
  },
  {
   "cell_type": "code",
   "execution_count": null,
   "metadata": {},
   "outputs": [],
   "source": [
    "g3_rev = data.groupby('genre_3')['review_score'].mean()\n",
    "g3_rev_df = pd.DataFrame(g3_rev)\n",
    "g3_rev_reset = g3_rev_df.reset_index()\n",
    "g3_rev_reset.columns = ['genres', 'averages']"
   ]
  },
  {
   "cell_type": "code",
   "execution_count": null,
   "metadata": {},
   "outputs": [],
   "source": [
    "g1g2rev_df = pd.merge(g1_rev_reset, g2_rev_reset, how='outer', left_on='genres', right_on='genres')"
   ]
  },
  {
   "cell_type": "code",
   "execution_count": null,
   "metadata": {},
   "outputs": [],
   "source": [
    "g1g2g3rev_df = pd.merge(g1g2rev_df, g3_rev_reset, how='outer', left_on='genres', right_on='genres')"
   ]
  },
  {
   "cell_type": "code",
   "execution_count": null,
   "metadata": {},
   "outputs": [],
   "source": [
    "averages = g1g2g3rev_df.drop(columns=['genres'])"
   ]
  },
  {
   "cell_type": "code",
   "execution_count": null,
   "metadata": {},
   "outputs": [],
   "source": [
    "averages = averages.T.fillna(averages.mean(axis=1)).T"
   ]
  },
  {
   "cell_type": "code",
   "execution_count": null,
   "metadata": {},
   "outputs": [],
   "source": [
    "g1g2g3rev_df[['averages_x', 'averages_y', 'averages']] = averages[['averages_x', 'averages_y', 'averages']]"
   ]
  },
  {
   "cell_type": "code",
   "execution_count": null,
   "metadata": {},
   "outputs": [],
   "source": [
    "g1g2g3rev_df['avg_rev'] = g1g2g3rev_df[['averages_x', 'averages_y', 'averages']].mean(axis=1)"
   ]
  },
  {
   "cell_type": "code",
   "execution_count": null,
   "metadata": {},
   "outputs": [],
   "source": [
    "g1g2g3rev_df = g1g2g3rev_df[['genres', 'avg_rev']]"
   ]
  },
  {
   "cell_type": "code",
   "execution_count": null,
   "metadata": {},
   "outputs": [],
   "source": [
    "genres_df = pd.merge(genres_df, g1g2g3rev_df, how='left', left_on='genres', right_on='genres')\n"
   ]
  },
  {
   "cell_type": "code",
   "execution_count": null,
   "metadata": {},
   "outputs": [],
   "source": [
    "#genres_df = genres_df.drop(columns=['averages_x', 'averages_y', 'averages', 'avg_rev_x', 'avg_rev_y'])"
   ]
  },
  {
   "cell_type": "code",
   "execution_count": null,
   "metadata": {},
   "outputs": [],
   "source": [
    "genres_df"
   ]
  },
  {
   "cell_type": "markdown",
   "metadata": {},
   "source": [
    "Average Play Time"
   ]
  },
  {
   "cell_type": "code",
   "execution_count": null,
   "metadata": {},
   "outputs": [],
   "source": [
    "g1_apt = data.groupby('genre_1')['average_forever'].mean()\n",
    "g1_apt_df = pd.DataFrame(g1_apt)\n",
    "g1_apt_reset = g1_apt_df.reset_index()\n",
    "g1_apt_reset.columns = ['genres', 'averages']\n",
    "\n"
   ]
  },
  {
   "cell_type": "code",
   "execution_count": null,
   "metadata": {},
   "outputs": [],
   "source": [
    "g2_apt = data.groupby('genre_2')['average_forever'].mean()\n",
    "g2_apt_df = pd.DataFrame(g2_apt)\n",
    "g2_apt_reset = g2_apt_df.reset_index()\n",
    "g2_apt_reset.columns = ['genres', 'averages']\n",
    "\n"
   ]
  },
  {
   "cell_type": "code",
   "execution_count": null,
   "metadata": {},
   "outputs": [],
   "source": [
    "g3_apt = data.groupby('genre_3')['average_forever'].mean()\n",
    "g3_apt_df = pd.DataFrame(g3_apt)\n",
    "g3_apt_reset = g3_apt_df.reset_index()\n",
    "g3_apt_reset.columns = ['genres', 'averages']"
   ]
  },
  {
   "cell_type": "code",
   "execution_count": null,
   "metadata": {},
   "outputs": [],
   "source": [
    "g1g2apt_df = pd.merge(g1_apt_reset, g2_apt_reset, how='outer', left_on='genres', right_on='genres')"
   ]
  },
  {
   "cell_type": "code",
   "execution_count": null,
   "metadata": {},
   "outputs": [],
   "source": [
    "g1g2g3apt_df = pd.merge(g1g2apt_df, g3_apt_reset, how='outer', left_on='genres', right_on='genres')"
   ]
  },
  {
   "cell_type": "code",
   "execution_count": null,
   "metadata": {},
   "outputs": [],
   "source": [
    "averages = g1g2g3apt_df.drop(columns=['genres'])"
   ]
  },
  {
   "cell_type": "code",
   "execution_count": null,
   "metadata": {},
   "outputs": [],
   "source": [
    "averages = averages.T.fillna(averages.mean(axis=1)).T"
   ]
  },
  {
   "cell_type": "code",
   "execution_count": null,
   "metadata": {},
   "outputs": [],
   "source": [
    "g1g2g3apt_df[['averages_x', 'averages_y', 'averages']] = averages[['averages_x', 'averages_y', 'averages']]"
   ]
  },
  {
   "cell_type": "code",
   "execution_count": null,
   "metadata": {},
   "outputs": [],
   "source": [
    "g1g2g3apt_df['avg_apt'] = g1g2g3apt_df[['averages_x', 'averages_y', 'averages']].mean(axis=1)"
   ]
  },
  {
   "cell_type": "code",
   "execution_count": null,
   "metadata": {},
   "outputs": [],
   "source": [
    "g1g2g3apt_df = g1g2g3apt_df[['genres', 'avg_apt']]"
   ]
  },
  {
   "cell_type": "code",
   "execution_count": null,
   "metadata": {},
   "outputs": [],
   "source": [
    "genres_df = pd.merge(genres_df, g1g2g3apt_df, how='left', left_on='genres', right_on='genres')\n"
   ]
  },
  {
   "cell_type": "code",
   "execution_count": null,
   "metadata": {},
   "outputs": [],
   "source": [
    "genres_df"
   ]
  },
  {
   "cell_type": "markdown",
   "metadata": {},
   "source": [
    "CCU"
   ]
  },
  {
   "cell_type": "code",
   "execution_count": 70,
   "metadata": {},
   "outputs": [],
   "source": [
    "g1_ccu = data.groupby('genre_1')['ccu'].sum()\n",
    "g1_ccu_df = pd.DataFrame(g1_ccu)\n",
    "g1_ccu_reset = g1_ccu_df.reset_index()\n",
    "g1_ccu_reset.columns = ['genres', 'total']\n",
    "\n"
   ]
  },
  {
   "cell_type": "code",
   "execution_count": 71,
   "metadata": {},
   "outputs": [],
   "source": [
    "g2_ccu = data.groupby('genre_2')['ccu'].sum()\n",
    "g2_ccu_df = pd.DataFrame(g2_ccu)\n",
    "g2_ccu_reset = g2_ccu_df.reset_index()\n",
    "g2_ccu_reset.columns = ['genres', 'total']\n",
    "\n"
   ]
  },
  {
   "cell_type": "code",
   "execution_count": 73,
   "metadata": {},
   "outputs": [],
   "source": [
    "g3_ccu = data.groupby('genre_3')['ccu'].sum()\n",
    "g3_ccu_df = pd.DataFrame(g3_ccu)\n",
    "g3_ccu_reset = g3_ccu_df.reset_index()\n",
    "g3_ccu_reset.columns = ['genres', 'total']"
   ]
  },
  {
   "cell_type": "code",
   "execution_count": 74,
   "metadata": {},
   "outputs": [],
   "source": [
    "g1g2ccu_df = pd.merge(g1_ccu_reset, g2_ccu_reset, how='outer', left_on='genres', right_on='genres')"
   ]
  },
  {
   "cell_type": "code",
   "execution_count": 75,
   "metadata": {},
   "outputs": [],
   "source": [
    "g1g2g3ccu_df = pd.merge(g1g2ccu_df, g3_ccu_reset, how='outer', left_on='genres', right_on='genres')"
   ]
  },
  {
   "cell_type": "code",
   "execution_count": 76,
   "metadata": {},
   "outputs": [],
   "source": [
    "averages = g1g2g3ccu_df.drop(columns=['genres'])"
   ]
  },
  {
   "cell_type": "code",
   "execution_count": 77,
   "metadata": {},
   "outputs": [],
   "source": [
    "averages = averages.T.fillna(averages.mean(axis=1)).T"
   ]
  },
  {
   "cell_type": "code",
   "execution_count": 79,
   "metadata": {},
   "outputs": [],
   "source": [
    "g1g2g3ccu_df[['total_x', 'total_y', 'total']] = averages[['total_x', 'total_y', 'total']]"
   ]
  },
  {
   "cell_type": "code",
   "execution_count": 80,
   "metadata": {},
   "outputs": [],
   "source": [
    "g1g2g3ccu_df['tot_ccu'] = g1g2g3ccu_df[['total_x', 'total_y', 'total']].sum(axis=1)"
   ]
  },
  {
   "cell_type": "code",
   "execution_count": 81,
   "metadata": {},
   "outputs": [],
   "source": [
    "g1g2g3ccu_df = g1g2g3ccu_df[['genres', 'tot_ccu']]"
   ]
  },
  {
   "cell_type": "code",
   "execution_count": 82,
   "metadata": {},
   "outputs": [],
   "source": [
    "genres_df = pd.merge(genres_df, g1g2g3ccu_df, how='left', left_on='genres', right_on='genres')\n"
   ]
  },
  {
   "cell_type": "code",
   "execution_count": 83,
   "metadata": {},
   "outputs": [
    {
     "data": {
      "text/html": [
       "<div>\n",
       "<style scoped>\n",
       "    .dataframe tbody tr th:only-of-type {\n",
       "        vertical-align: middle;\n",
       "    }\n",
       "\n",
       "    .dataframe tbody tr th {\n",
       "        vertical-align: top;\n",
       "    }\n",
       "\n",
       "    .dataframe thead th {\n",
       "        text-align: right;\n",
       "    }\n",
       "</style>\n",
       "<table border=\"1\" class=\"dataframe\">\n",
       "  <thead>\n",
       "    <tr style=\"text-align: right;\">\n",
       "      <th></th>\n",
       "      <th>genres</th>\n",
       "      <th>total</th>\n",
       "      <th>average</th>\n",
       "      <th>avg_rev</th>\n",
       "      <th>avg_apt</th>\n",
       "      <th>tot_ccu</th>\n",
       "    </tr>\n",
       "  </thead>\n",
       "  <tbody>\n",
       "    <tr>\n",
       "      <th>0</th>\n",
       "      <td>Action</td>\n",
       "      <td>32387.0</td>\n",
       "      <td>56.915704</td>\n",
       "      <td>3.653845</td>\n",
       "      <td>56.466692</td>\n",
       "      <td>7190648.0</td>\n",
       "    </tr>\n",
       "    <tr>\n",
       "      <th>1</th>\n",
       "      <td>Adventure</td>\n",
       "      <td>30633.0</td>\n",
       "      <td>62.302156</td>\n",
       "      <td>4.063247</td>\n",
       "      <td>102.394373</td>\n",
       "      <td>4209356.0</td>\n",
       "    </tr>\n",
       "    <tr>\n",
       "      <th>2</th>\n",
       "      <td>Casual</td>\n",
       "      <td>32132.0</td>\n",
       "      <td>67.837250</td>\n",
       "      <td>3.877880</td>\n",
       "      <td>84.713681</td>\n",
       "      <td>575313.0</td>\n",
       "    </tr>\n",
       "    <tr>\n",
       "      <th>3</th>\n",
       "      <td>Indie</td>\n",
       "      <td>49993.0</td>\n",
       "      <td>68.475145</td>\n",
       "      <td>4.146436</td>\n",
       "      <td>92.037750</td>\n",
       "      <td>2422657.0</td>\n",
       "    </tr>\n",
       "    <tr>\n",
       "      <th>4</th>\n",
       "      <td>Simulation</td>\n",
       "      <td>9859.0</td>\n",
       "      <td>64.154987</td>\n",
       "      <td>4.281080</td>\n",
       "      <td>223.043627</td>\n",
       "      <td>1046069.0</td>\n",
       "    </tr>\n",
       "    <tr>\n",
       "      <th>5</th>\n",
       "      <td>RPG</td>\n",
       "      <td>8350.0</td>\n",
       "      <td>68.275669</td>\n",
       "      <td>4.413776</td>\n",
       "      <td>235.654923</td>\n",
       "      <td>1106010.0</td>\n",
       "    </tr>\n",
       "    <tr>\n",
       "      <th>6</th>\n",
       "      <td>Strategy</td>\n",
       "      <td>8258.0</td>\n",
       "      <td>67.975488</td>\n",
       "      <td>4.223122</td>\n",
       "      <td>219.223950</td>\n",
       "      <td>1443204.0</td>\n",
       "    </tr>\n",
       "    <tr>\n",
       "      <th>7</th>\n",
       "      <td>Free to Play</td>\n",
       "      <td>2902.0</td>\n",
       "      <td>69.068974</td>\n",
       "      <td>5.644327</td>\n",
       "      <td>216.315793</td>\n",
       "      <td>2516992.0</td>\n",
       "    </tr>\n",
       "    <tr>\n",
       "      <th>8</th>\n",
       "      <td>Racing</td>\n",
       "      <td>1901.0</td>\n",
       "      <td>64.285328</td>\n",
       "      <td>4.001011</td>\n",
       "      <td>150.084329</td>\n",
       "      <td>118939.0</td>\n",
       "    </tr>\n",
       "    <tr>\n",
       "      <th>9</th>\n",
       "      <td>Violent</td>\n",
       "      <td>457.0</td>\n",
       "      <td>56.934949</td>\n",
       "      <td>3.827975</td>\n",
       "      <td>30.134612</td>\n",
       "      <td>185.0</td>\n",
       "    </tr>\n",
       "    <tr>\n",
       "      <th>10</th>\n",
       "      <td>Sports</td>\n",
       "      <td>1641.0</td>\n",
       "      <td>63.593194</td>\n",
       "      <td>3.785226</td>\n",
       "      <td>201.082256</td>\n",
       "      <td>200085.0</td>\n",
       "    </tr>\n",
       "    <tr>\n",
       "      <th>11</th>\n",
       "      <td>Sexual Content</td>\n",
       "      <td>95.0</td>\n",
       "      <td>62.271419</td>\n",
       "      <td>4.273684</td>\n",
       "      <td>40.042105</td>\n",
       "      <td>51.0</td>\n",
       "    </tr>\n",
       "    <tr>\n",
       "      <th>12</th>\n",
       "      <td>Massively Multiplayer</td>\n",
       "      <td>942.0</td>\n",
       "      <td>55.355812</td>\n",
       "      <td>4.004941</td>\n",
       "      <td>600.047324</td>\n",
       "      <td>1250498.0</td>\n",
       "    </tr>\n",
       "    <tr>\n",
       "      <th>13</th>\n",
       "      <td>Nudity</td>\n",
       "      <td>100.0</td>\n",
       "      <td>59.663000</td>\n",
       "      <td>4.527244</td>\n",
       "      <td>22.547276</td>\n",
       "      <td>31.5</td>\n",
       "    </tr>\n",
       "    <tr>\n",
       "      <th>14</th>\n",
       "      <td>Gore</td>\n",
       "      <td>266.0</td>\n",
       "      <td>53.688336</td>\n",
       "      <td>3.645131</td>\n",
       "      <td>40.975664</td>\n",
       "      <td>79.0</td>\n",
       "    </tr>\n",
       "    <tr>\n",
       "      <th>15</th>\n",
       "      <td>Early Access</td>\n",
       "      <td>2635.0</td>\n",
       "      <td>61.470032</td>\n",
       "      <td>3.415956</td>\n",
       "      <td>52.134110</td>\n",
       "      <td>126833.0</td>\n",
       "    </tr>\n",
       "    <tr>\n",
       "      <th>16</th>\n",
       "      <td>Education</td>\n",
       "      <td>9.0</td>\n",
       "      <td>46.875000</td>\n",
       "      <td>0.555556</td>\n",
       "      <td>0.000000</td>\n",
       "      <td>0.0</td>\n",
       "    </tr>\n",
       "    <tr>\n",
       "      <th>17</th>\n",
       "      <td>Design &amp; Illustration</td>\n",
       "      <td>3.0</td>\n",
       "      <td>35.607143</td>\n",
       "      <td>1.500000</td>\n",
       "      <td>0.000000</td>\n",
       "      <td>0.0</td>\n",
       "    </tr>\n",
       "    <tr>\n",
       "      <th>18</th>\n",
       "      <td>Utilities</td>\n",
       "      <td>3.0</td>\n",
       "      <td>31.428571</td>\n",
       "      <td>1.250000</td>\n",
       "      <td>0.000000</td>\n",
       "      <td>0.0</td>\n",
       "    </tr>\n",
       "    <tr>\n",
       "      <th>19</th>\n",
       "      <td>Software Training</td>\n",
       "      <td>2.0</td>\n",
       "      <td>53.750000</td>\n",
       "      <td>2.500000</td>\n",
       "      <td>0.000000</td>\n",
       "      <td>0.0</td>\n",
       "    </tr>\n",
       "    <tr>\n",
       "      <th>20</th>\n",
       "      <td>Audio Production</td>\n",
       "      <td>3.0</td>\n",
       "      <td>85.023355</td>\n",
       "      <td>7.250000</td>\n",
       "      <td>41.000000</td>\n",
       "      <td>0.0</td>\n",
       "    </tr>\n",
       "    <tr>\n",
       "      <th>21</th>\n",
       "      <td>Game Development</td>\n",
       "      <td>6.0</td>\n",
       "      <td>33.673669</td>\n",
       "      <td>1.700000</td>\n",
       "      <td>0.000000</td>\n",
       "      <td>1.5</td>\n",
       "    </tr>\n",
       "    <tr>\n",
       "      <th>22</th>\n",
       "      <td>Video Production</td>\n",
       "      <td>1.0</td>\n",
       "      <td>66.666667</td>\n",
       "      <td>5.000000</td>\n",
       "      <td>0.000000</td>\n",
       "      <td>0.0</td>\n",
       "    </tr>\n",
       "    <tr>\n",
       "      <th>23</th>\n",
       "      <td>Web Publishing</td>\n",
       "      <td>1.0</td>\n",
       "      <td>0.000000</td>\n",
       "      <td>0.000000</td>\n",
       "      <td>0.000000</td>\n",
       "      <td>0.0</td>\n",
       "    </tr>\n",
       "    <tr>\n",
       "      <th>24</th>\n",
       "      <td>Accounting</td>\n",
       "      <td>1.0</td>\n",
       "      <td>80.000000</td>\n",
       "      <td>0.000000</td>\n",
       "      <td>0.000000</td>\n",
       "      <td>0.0</td>\n",
       "    </tr>\n",
       "  </tbody>\n",
       "</table>\n",
       "</div>"
      ],
      "text/plain": [
       "                   genres    total    average   avg_rev     avg_apt    tot_ccu\n",
       "0                  Action  32387.0  56.915704  3.653845   56.466692  7190648.0\n",
       "1               Adventure  30633.0  62.302156  4.063247  102.394373  4209356.0\n",
       "2                  Casual  32132.0  67.837250  3.877880   84.713681   575313.0\n",
       "3                   Indie  49993.0  68.475145  4.146436   92.037750  2422657.0\n",
       "4              Simulation   9859.0  64.154987  4.281080  223.043627  1046069.0\n",
       "5                     RPG   8350.0  68.275669  4.413776  235.654923  1106010.0\n",
       "6                Strategy   8258.0  67.975488  4.223122  219.223950  1443204.0\n",
       "7            Free to Play   2902.0  69.068974  5.644327  216.315793  2516992.0\n",
       "8                  Racing   1901.0  64.285328  4.001011  150.084329   118939.0\n",
       "9                 Violent    457.0  56.934949  3.827975   30.134612      185.0\n",
       "10                 Sports   1641.0  63.593194  3.785226  201.082256   200085.0\n",
       "11         Sexual Content     95.0  62.271419  4.273684   40.042105       51.0\n",
       "12  Massively Multiplayer    942.0  55.355812  4.004941  600.047324  1250498.0\n",
       "13                 Nudity    100.0  59.663000  4.527244   22.547276       31.5\n",
       "14                   Gore    266.0  53.688336  3.645131   40.975664       79.0\n",
       "15           Early Access   2635.0  61.470032  3.415956   52.134110   126833.0\n",
       "16              Education      9.0  46.875000  0.555556    0.000000        0.0\n",
       "17  Design & Illustration      3.0  35.607143  1.500000    0.000000        0.0\n",
       "18              Utilities      3.0  31.428571  1.250000    0.000000        0.0\n",
       "19      Software Training      2.0  53.750000  2.500000    0.000000        0.0\n",
       "20       Audio Production      3.0  85.023355  7.250000   41.000000        0.0\n",
       "21       Game Development      6.0  33.673669  1.700000    0.000000        1.5\n",
       "22       Video Production      1.0  66.666667  5.000000    0.000000        0.0\n",
       "23         Web Publishing      1.0   0.000000  0.000000    0.000000        0.0\n",
       "24             Accounting      1.0  80.000000  0.000000    0.000000        0.0"
      ]
     },
     "execution_count": 83,
     "metadata": {},
     "output_type": "execute_result"
    }
   ],
   "source": [
    "genres_df"
   ]
  },
  {
   "cell_type": "code",
   "execution_count": null,
   "metadata": {},
   "outputs": [],
   "source": []
  }
 ],
 "metadata": {
  "kernelspec": {
   "display_name": "base",
   "language": "python",
   "name": "python3"
  },
  "language_info": {
   "codemirror_mode": {
    "name": "ipython",
    "version": 3
   },
   "file_extension": ".py",
   "mimetype": "text/x-python",
   "name": "python",
   "nbconvert_exporter": "python",
   "pygments_lexer": "ipython3",
   "version": "3.11.5"
  }
 },
 "nbformat": 4,
 "nbformat_minor": 2
}
