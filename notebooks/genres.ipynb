{
 "cells": [
  {
   "cell_type": "markdown",
   "metadata": {},
   "source": [
    "This notebook will combine the three genre columns and provide some analysis on them"
   ]
  },
  {
   "cell_type": "code",
   "execution_count": null,
   "metadata": {},
   "outputs": [],
   "source": [
    "#standard imports\n",
    "import numpy as np\n",
    "import pandas as pd\n",
    "import json\n",
    "\n",
    "# customisations - ensure tables show all columns\n",
    "pd.set_option(\"display.max_columns\", 100)\n",
    "\n",
    "#imports for graphing\n",
    "import seaborn as sns\n",
    "import matplotlib.pyplot as plt"
   ]
  },
  {
   "cell_type": "code",
   "execution_count": null,
   "metadata": {},
   "outputs": [],
   "source": [
    "data = pd.read_csv(\"../data/meta.csv\")"
   ]
  },
  {
   "cell_type": "code",
   "execution_count": null,
   "metadata": {},
   "outputs": [],
   "source": [
    "rss = data[(data['steam_appid'] == 359550) | (data['steam_appid'] == 1172470)]"
   ]
  },
  {
   "cell_type": "code",
   "execution_count": null,
   "metadata": {},
   "outputs": [],
   "source": [
    "rss.info()"
   ]
  },
  {
   "cell_type": "code",
   "execution_count": null,
   "metadata": {},
   "outputs": [],
   "source": [
    "rss"
   ]
  },
  {
   "cell_type": "code",
   "execution_count": null,
   "metadata": {},
   "outputs": [],
   "source": [
    "data.info()"
   ]
  },
  {
   "cell_type": "code",
   "execution_count": null,
   "metadata": {},
   "outputs": [],
   "source": [
    "data['ccu']"
   ]
  },
  {
   "cell_type": "markdown",
   "metadata": {},
   "source": [
    "Counts"
   ]
  },
  {
   "cell_type": "code",
   "execution_count": null,
   "metadata": {},
   "outputs": [],
   "source": [
    "g1_count = data['genre_1'].value_counts(dropna=True, sort=True)\n",
    "df_g1 = pd.DataFrame(g1_count)\n",
    "df_g1_reset = df_g1.reset_index()\n",
    "df_g1_reset.columns = ['genres', 'counts']\n"
   ]
  },
  {
   "cell_type": "code",
   "execution_count": null,
   "metadata": {},
   "outputs": [],
   "source": [
    "df_g1_reset"
   ]
  },
  {
   "cell_type": "code",
   "execution_count": null,
   "metadata": {},
   "outputs": [],
   "source": [
    "g2_count = data['genre_2'].value_counts(dropna=True, sort=True)\n",
    "df_g2 = pd.DataFrame(g2_count)\n",
    "df_g2_reset = df_g2.reset_index()\n",
    "df_g2_reset.columns = ['genres', 'counts']\n"
   ]
  },
  {
   "cell_type": "code",
   "execution_count": null,
   "metadata": {},
   "outputs": [],
   "source": [
    "df_g2_reset"
   ]
  },
  {
   "cell_type": "code",
   "execution_count": null,
   "metadata": {},
   "outputs": [],
   "source": [
    "g3_count = data['genre_3'].value_counts(dropna=True, sort=True)\n",
    "df_g3 = pd.DataFrame(g3_count)\n",
    "df_g3_reset = df_g3.reset_index()\n",
    "df_g3_reset.columns = ['genres', 'counts']\n"
   ]
  },
  {
   "cell_type": "code",
   "execution_count": null,
   "metadata": {},
   "outputs": [],
   "source": [
    "df_g3_reset"
   ]
  },
  {
   "cell_type": "code",
   "execution_count": null,
   "metadata": {},
   "outputs": [],
   "source": [
    "g1g2_df = pd.merge(df_g1_reset, df_g2_reset, how='outer', left_on='genres', right_on='genres')\n",
    "g1g2_df"
   ]
  },
  {
   "cell_type": "code",
   "execution_count": null,
   "metadata": {},
   "outputs": [],
   "source": [
    "g1g2g3_df = pd.merge(g1g2_df, df_g3_reset, how='outer', left_on='genres', right_on='genres')\n",
    "g1g2g3_df"
   ]
  },
  {
   "cell_type": "code",
   "execution_count": null,
   "metadata": {},
   "outputs": [],
   "source": [
    "g1g2g3_df = g1g2g3_df.fillna(0)"
   ]
  },
  {
   "cell_type": "code",
   "execution_count": null,
   "metadata": {},
   "outputs": [],
   "source": [
    "g1g2g3_df.info()"
   ]
  },
  {
   "cell_type": "code",
   "execution_count": null,
   "metadata": {},
   "outputs": [],
   "source": [
    "g1g2g3_df['total'] = g1g2g3_df[['counts_x', 'counts_y', 'counts']].sum(axis=1)"
   ]
  },
  {
   "cell_type": "code",
   "execution_count": null,
   "metadata": {},
   "outputs": [],
   "source": [
    "g1g2g3_df"
   ]
  },
  {
   "cell_type": "code",
   "execution_count": null,
   "metadata": {},
   "outputs": [],
   "source": [
    "genres_df = g1g2g3_df[['genres', 'total']]\n",
    "genres_df"
   ]
  },
  {
   "cell_type": "code",
   "execution_count": null,
   "metadata": {},
   "outputs": [],
   "source": [
    "genres_df = genres_df.drop([19,25])"
   ]
  },
  {
   "cell_type": "code",
   "execution_count": null,
   "metadata": {},
   "outputs": [],
   "source": [
    "genres_df"
   ]
  },
  {
   "cell_type": "markdown",
   "metadata": {},
   "source": [
    "Averages"
   ]
  },
  {
   "cell_type": "code",
   "execution_count": null,
   "metadata": {},
   "outputs": [],
   "source": [
    "g1_pos = data.groupby('genre_1')['pos_percent'].mean()\n",
    "g1_pos_df = pd.DataFrame(g1_pos)\n",
    "g1_pos_reset = g1_pos_df.reset_index()\n",
    "g1_pos_reset.columns = ['genres', 'averages']\n",
    "g1_pos_reset\n"
   ]
  },
  {
   "cell_type": "code",
   "execution_count": null,
   "metadata": {},
   "outputs": [],
   "source": [
    "g2_pos = data.groupby('genre_2')['pos_percent'].mean()\n",
    "g2_pos_df = pd.DataFrame(g2_pos)\n",
    "g2_pos_reset = g2_pos_df.reset_index()\n",
    "g2_pos_reset.columns = ['genres', 'averages']\n",
    "g2_pos_reset\n"
   ]
  },
  {
   "cell_type": "code",
   "execution_count": null,
   "metadata": {},
   "outputs": [],
   "source": [
    "g3_pos = data.groupby('genre_3')['pos_percent'].mean()\n",
    "g3_pos_df = pd.DataFrame(g3_pos)\n",
    "g3_pos_reset = g3_pos_df.reset_index()\n",
    "g3_pos_reset.columns = ['genres', 'averages']\n",
    "g3_pos_reset"
   ]
  },
  {
   "cell_type": "code",
   "execution_count": null,
   "metadata": {},
   "outputs": [],
   "source": [
    "g1g2pos_df = pd.merge(g1_pos_reset, g2_pos_reset, how='outer', left_on='genres', right_on='genres')\n"
   ]
  },
  {
   "cell_type": "code",
   "execution_count": null,
   "metadata": {},
   "outputs": [],
   "source": [
    "g1g2g3pos_df = pd.merge(g1g2pos_df, g3_pos_reset, how='outer', left_on='genres', right_on='genres')"
   ]
  },
  {
   "cell_type": "code",
   "execution_count": null,
   "metadata": {},
   "outputs": [],
   "source": [
    "g1g2g3pos_df"
   ]
  },
  {
   "cell_type": "code",
   "execution_count": null,
   "metadata": {},
   "outputs": [],
   "source": [
    "averages = g1g2g3pos_df.drop(columns=['genres'])"
   ]
  },
  {
   "cell_type": "code",
   "execution_count": null,
   "metadata": {},
   "outputs": [],
   "source": [
    "averages = averages.T.fillna(averages.mean(axis=1)).T"
   ]
  },
  {
   "cell_type": "code",
   "execution_count": null,
   "metadata": {},
   "outputs": [],
   "source": [
    "g1g2g3pos_df[['averages_x', 'averages_y', 'averages']] = averages[['averages_x', 'averages_y', 'averages']]"
   ]
  },
  {
   "cell_type": "code",
   "execution_count": null,
   "metadata": {},
   "outputs": [],
   "source": [
    "g1g2g3pos_df"
   ]
  },
  {
   "cell_type": "code",
   "execution_count": null,
   "metadata": {},
   "outputs": [],
   "source": [
    "g1g2g3pos_df['average'] = g1g2g3pos_df[['averages_x', 'averages_y', 'averages']].mean(axis=1)"
   ]
  },
  {
   "cell_type": "code",
   "execution_count": null,
   "metadata": {},
   "outputs": [],
   "source": [
    "g1g2g3pos_df = g1g2g3pos_df[['genres', 'average']]"
   ]
  },
  {
   "cell_type": "code",
   "execution_count": null,
   "metadata": {},
   "outputs": [],
   "source": [
    "genres_df = pd.merge(genres_df, g1g2g3pos_df, how='left', left_on='genres', right_on='genres')\n"
   ]
  },
  {
   "cell_type": "code",
   "execution_count": null,
   "metadata": {},
   "outputs": [],
   "source": [
    "genres_df"
   ]
  },
  {
   "cell_type": "markdown",
   "metadata": {},
   "source": [
    "review_score "
   ]
  },
  {
   "cell_type": "code",
   "execution_count": null,
   "metadata": {},
   "outputs": [],
   "source": []
  },
  {
   "cell_type": "code",
   "execution_count": null,
   "metadata": {},
   "outputs": [],
   "source": [
    "g1_rev = data.groupby('genre_1')['review_score'].mean()\n",
    "g1_rev_df = pd.DataFrame(g1_rev)\n",
    "g1_rev_reset = g1_rev_df.reset_index()\n",
    "g1_rev_reset.columns = ['genres', 'averages']\n",
    "\n"
   ]
  },
  {
   "cell_type": "code",
   "execution_count": null,
   "metadata": {},
   "outputs": [],
   "source": [
    "g2_rev = data.groupby('genre_2')['review_score'].mean()\n",
    "g2_rev_df = pd.DataFrame(g2_rev)\n",
    "g2_rev_reset = g2_rev_df.reset_index()\n",
    "g2_rev_reset.columns = ['genres', 'averages']\n",
    "\n"
   ]
  },
  {
   "cell_type": "code",
   "execution_count": null,
   "metadata": {},
   "outputs": [],
   "source": [
    "g3_rev = data.groupby('genre_3')['review_score'].mean()\n",
    "g3_rev_df = pd.DataFrame(g3_rev)\n",
    "g3_rev_reset = g3_rev_df.reset_index()\n",
    "g3_rev_reset.columns = ['genres', 'averages']"
   ]
  },
  {
   "cell_type": "code",
   "execution_count": null,
   "metadata": {},
   "outputs": [],
   "source": [
    "g1g2rev_df = pd.merge(g1_rev_reset, g2_rev_reset, how='outer', left_on='genres', right_on='genres')"
   ]
  },
  {
   "cell_type": "code",
   "execution_count": null,
   "metadata": {},
   "outputs": [],
   "source": [
    "g1g2g3rev_df = pd.merge(g1g2rev_df, g3_rev_reset, how='outer', left_on='genres', right_on='genres')"
   ]
  },
  {
   "cell_type": "code",
   "execution_count": null,
   "metadata": {},
   "outputs": [],
   "source": [
    "averages = g1g2g3rev_df.drop(columns=['genres'])"
   ]
  },
  {
   "cell_type": "code",
   "execution_count": null,
   "metadata": {},
   "outputs": [],
   "source": [
    "averages = averages.T.fillna(averages.mean(axis=1)).T"
   ]
  },
  {
   "cell_type": "code",
   "execution_count": null,
   "metadata": {},
   "outputs": [],
   "source": [
    "g1g2g3rev_df[['averages_x', 'averages_y', 'averages']] = averages[['averages_x', 'averages_y', 'averages']]"
   ]
  },
  {
   "cell_type": "code",
   "execution_count": null,
   "metadata": {},
   "outputs": [],
   "source": [
    "g1g2g3rev_df['avg_rev'] = g1g2g3rev_df[['averages_x', 'averages_y', 'averages']].mean(axis=1)"
   ]
  },
  {
   "cell_type": "code",
   "execution_count": null,
   "metadata": {},
   "outputs": [],
   "source": [
    "g1g2g3rev_df = g1g2g3rev_df[['genres', 'avg_rev']]"
   ]
  },
  {
   "cell_type": "code",
   "execution_count": null,
   "metadata": {},
   "outputs": [],
   "source": [
    "genres_df = pd.merge(genres_df, g1g2g3rev_df, how='left', left_on='genres', right_on='genres')\n"
   ]
  },
  {
   "cell_type": "code",
   "execution_count": null,
   "metadata": {},
   "outputs": [],
   "source": [
    "#genres_df = genres_df.drop(columns=['averages_x', 'averages_y', 'averages', 'avg_rev_x', 'avg_rev_y'])"
   ]
  },
  {
   "cell_type": "code",
   "execution_count": null,
   "metadata": {},
   "outputs": [],
   "source": [
    "genres_df"
   ]
  },
  {
   "cell_type": "markdown",
   "metadata": {},
   "source": [
    "Average Play Time"
   ]
  },
  {
   "cell_type": "code",
   "execution_count": null,
   "metadata": {},
   "outputs": [],
   "source": [
    "g1_apt = data.groupby('genre_1')['average_forever'].mean()\n",
    "g1_apt_df = pd.DataFrame(g1_apt)\n",
    "g1_apt_reset = g1_apt_df.reset_index()\n",
    "g1_apt_reset.columns = ['genres', 'averages']\n",
    "\n"
   ]
  },
  {
   "cell_type": "code",
   "execution_count": null,
   "metadata": {},
   "outputs": [],
   "source": [
    "g2_apt = data.groupby('genre_2')['average_forever'].mean()\n",
    "g2_apt_df = pd.DataFrame(g2_apt)\n",
    "g2_apt_reset = g2_apt_df.reset_index()\n",
    "g2_apt_reset.columns = ['genres', 'averages']\n",
    "\n"
   ]
  },
  {
   "cell_type": "code",
   "execution_count": null,
   "metadata": {},
   "outputs": [],
   "source": [
    "g3_apt = data.groupby('genre_3')['average_forever'].mean()\n",
    "g3_apt_df = pd.DataFrame(g3_apt)\n",
    "g3_apt_reset = g3_apt_df.reset_index()\n",
    "g3_apt_reset.columns = ['genres', 'averages']"
   ]
  },
  {
   "cell_type": "code",
   "execution_count": null,
   "metadata": {},
   "outputs": [],
   "source": [
    "g1g2apt_df = pd.merge(g1_apt_reset, g2_apt_reset, how='outer', left_on='genres', right_on='genres')"
   ]
  },
  {
   "cell_type": "code",
   "execution_count": null,
   "metadata": {},
   "outputs": [],
   "source": [
    "g1g2g3apt_df = pd.merge(g1g2apt_df, g3_apt_reset, how='outer', left_on='genres', right_on='genres')"
   ]
  },
  {
   "cell_type": "code",
   "execution_count": null,
   "metadata": {},
   "outputs": [],
   "source": [
    "averages = g1g2g3apt_df.drop(columns=['genres'])"
   ]
  },
  {
   "cell_type": "code",
   "execution_count": null,
   "metadata": {},
   "outputs": [],
   "source": [
    "averages = averages.T.fillna(averages.mean(axis=1)).T"
   ]
  },
  {
   "cell_type": "code",
   "execution_count": null,
   "metadata": {},
   "outputs": [],
   "source": [
    "g1g2g3apt_df[['averages_x', 'averages_y', 'averages']] = averages[['averages_x', 'averages_y', 'averages']]"
   ]
  },
  {
   "cell_type": "code",
   "execution_count": null,
   "metadata": {},
   "outputs": [],
   "source": [
    "g1g2g3apt_df['avg_apt'] = g1g2g3apt_df[['averages_x', 'averages_y', 'averages']].mean(axis=1)"
   ]
  },
  {
   "cell_type": "code",
   "execution_count": null,
   "metadata": {},
   "outputs": [],
   "source": [
    "g1g2g3apt_df = g1g2g3apt_df[['genres', 'avg_apt']]"
   ]
  },
  {
   "cell_type": "code",
   "execution_count": null,
   "metadata": {},
   "outputs": [],
   "source": [
    "genres_df = pd.merge(genres_df, g1g2g3apt_df, how='left', left_on='genres', right_on='genres')\n"
   ]
  },
  {
   "cell_type": "code",
   "execution_count": null,
   "metadata": {},
   "outputs": [],
   "source": [
    "genres_df"
   ]
  },
  {
   "cell_type": "markdown",
   "metadata": {},
   "source": [
    "CCU"
   ]
  },
  {
   "cell_type": "code",
   "execution_count": null,
   "metadata": {},
   "outputs": [],
   "source": [
    "g1_ccu = data.groupby('genre_1')['ccu'].sum()\n",
    "g1_ccu_df = pd.DataFrame(g1_ccu)\n",
    "g1_ccu_reset = g1_ccu_df.reset_index()\n",
    "g1_ccu_reset.columns = ['genres', 'total']\n",
    "\n"
   ]
  },
  {
   "cell_type": "code",
   "execution_count": null,
   "metadata": {},
   "outputs": [],
   "source": [
    "g2_ccu = data.groupby('genre_2')['ccu'].sum()\n",
    "g2_ccu_df = pd.DataFrame(g2_ccu)\n",
    "g2_ccu_reset = g2_ccu_df.reset_index()\n",
    "g2_ccu_reset.columns = ['genres', 'total']\n",
    "\n"
   ]
  },
  {
   "cell_type": "code",
   "execution_count": null,
   "metadata": {},
   "outputs": [],
   "source": [
    "g3_ccu = data.groupby('genre_3')['ccu'].sum()\n",
    "g3_ccu_df = pd.DataFrame(g3_ccu)\n",
    "g3_ccu_reset = g3_ccu_df.reset_index()\n",
    "g3_ccu_reset.columns = ['genres', 'total']"
   ]
  },
  {
   "cell_type": "code",
   "execution_count": null,
   "metadata": {},
   "outputs": [],
   "source": [
    "g1g2ccu_df = pd.merge(g1_ccu_reset, g2_ccu_reset, how='outer', left_on='genres', right_on='genres')"
   ]
  },
  {
   "cell_type": "code",
   "execution_count": null,
   "metadata": {},
   "outputs": [],
   "source": [
    "g1g2g3ccu_df = pd.merge(g1g2ccu_df, g3_ccu_reset, how='outer', left_on='genres', right_on='genres')"
   ]
  },
  {
   "cell_type": "code",
   "execution_count": null,
   "metadata": {},
   "outputs": [],
   "source": [
    "averages = g1g2g3ccu_df.drop(columns=['genres'])"
   ]
  },
  {
   "cell_type": "code",
   "execution_count": null,
   "metadata": {},
   "outputs": [],
   "source": [
    "averages = averages.T.fillna(averages.mean(axis=1)).T"
   ]
  },
  {
   "cell_type": "code",
   "execution_count": null,
   "metadata": {},
   "outputs": [],
   "source": [
    "g1g2g3ccu_df[['total_x', 'total_y', 'total']] = averages[['total_x', 'total_y', 'total']]"
   ]
  },
  {
   "cell_type": "code",
   "execution_count": null,
   "metadata": {},
   "outputs": [],
   "source": [
    "g1g2g3ccu_df['tot_ccu'] = g1g2g3ccu_df[['total_x', 'total_y', 'total']].sum(axis=1)"
   ]
  },
  {
   "cell_type": "code",
   "execution_count": null,
   "metadata": {},
   "outputs": [],
   "source": [
    "g1g2g3ccu_df = g1g2g3ccu_df[['genres', 'tot_ccu']]"
   ]
  },
  {
   "cell_type": "code",
   "execution_count": null,
   "metadata": {},
   "outputs": [],
   "source": [
    "genres_df = pd.merge(genres_df, g1g2g3ccu_df, how='left', left_on='genres', right_on='genres')\n"
   ]
  },
  {
   "cell_type": "code",
   "execution_count": null,
   "metadata": {},
   "outputs": [],
   "source": [
    "genres_df"
   ]
  },
  {
   "cell_type": "code",
   "execution_count": null,
   "metadata": {},
   "outputs": [],
   "source": [
    "genres_df.to_csv(\"../data/download/genres_data.csv\", index=False)"
   ]
  }
 ],
 "metadata": {
  "kernelspec": {
   "display_name": "base",
   "language": "python",
   "name": "python3"
  },
  "language_info": {
   "codemirror_mode": {
    "name": "ipython",
    "version": 3
   },
   "file_extension": ".py",
   "mimetype": "text/x-python",
   "name": "python",
   "nbconvert_exporter": "python",
   "pygments_lexer": "ipython3",
   "version": "3.11.5"
  }
 },
 "nbformat": 4,
 "nbformat_minor": 2
}
